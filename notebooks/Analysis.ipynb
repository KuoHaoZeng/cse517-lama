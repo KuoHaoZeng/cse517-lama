{
 "cells": [
  {
   "cell_type": "code",
   "execution_count": 5,
   "metadata": {
    "collapsed": true
   },
   "outputs": [],
   "source": [
    "import os\n",
    "import pickle\n",
    "import numpy as np"
   ]
  },
  {
   "cell_type": "code",
   "execution_count": 6,
   "metadata": {
    "collapsed": true
   },
   "outputs": [],
   "source": [
    "basedir = '/home/gamaga/work/cse517-lama/output/results'"
   ]
  },
  {
   "cell_type": "code",
   "execution_count": 7,
   "metadata": {},
   "outputs": [
    {
     "name": "stdout",
     "output_type": "stream",
     "text": [
      "['bert_base', 'bert_large', 'elmo', 'elmo5B', 'transformerxl']\n"
     ]
    }
   ],
   "source": [
    "model_names = sorted(os.listdir(basedir))\n",
    "print(model_names)"
   ]
  },
  {
   "cell_type": "code",
   "execution_count": 8,
   "metadata": {
    "collapsed": true
   },
   "outputs": [],
   "source": [
    "dataset_names = ['ConceptNET', 'GoogleRE', 'Squad', 'TREx']"
   ]
  },
  {
   "cell_type": "code",
   "execution_count": null,
   "metadata": {},
   "outputs": [
    {
     "name": "stdout",
     "output_type": "stream",
     "text": [
      "ConceptNET bert_base\n",
      "  Template: test. Num queries: 11460. Avg P@1: 0.156457\n",
      "  ==============================\n",
      "  Total P@1: 0.156457\n",
      "ConceptNET bert_large\n",
      "  Template: test. Num queries: 11460. Avg P@1: 0.192583\n",
      "  ==============================\n",
      "  Total P@1: 0.192583\n",
      "ConceptNET elmo\n",
      "  Template: test. Num queries: 11460. Avg P@1: 0.061082\n",
      "  ==============================\n",
      "  Total P@1: 0.061082\n",
      "ConceptNET elmo5B\n"
     ]
    }
   ],
   "source": [
    "all_precisions = {}\n",
    "for dataset_name in dataset_names:\n",
    "    all_precisions[dataset_name] = {}\n",
    "    for model_name in model_names:\n",
    "        print(dataset_name, model_name)\n",
    "        all_precisions[dataset_name][model_name] = {}\n",
    "        precisions = []\n",
    "        for template in os.listdir(os.path.join(basedir, model_name, dataset_name)):\n",
    "            filename = os.path.join(basedir, model_name, dataset_name, template, 'result.pkl')\n",
    "            with open(filename, 'rb') as f:\n",
    "                results = pickle.load(f)\n",
    "            num_queries = len(results['list_of_results'])\n",
    "            sum_precision = sum([result['sample_Precision1'] for result in results['list_of_results']])\n",
    "            avg_precision = sum_precision/num_queries\n",
    "            print('  Template: %s. Num queries: %d. Avg P@1: %f' % (template, num_queries, avg_precision))\n",
    "            precisions.append(avg_precision)\n",
    "            all_precisions[dataset_name][model_name][template] = avg_precision\n",
    "\n",
    "        print('  ' + '='*30)\n",
    "        print('  Total P@1: %f' % np.mean(precisions))"
   ]
  },
  {
   "cell_type": "code",
   "execution_count": null,
   "metadata": {
    "collapsed": true
   },
   "outputs": [],
   "source": []
  }
 ],
 "metadata": {
  "kernelspec": {
   "display_name": "Python 3",
   "language": "python",
   "name": "python3"
  },
  "language_info": {
   "codemirror_mode": {
    "name": "ipython",
    "version": 3
   },
   "file_extension": ".py",
   "mimetype": "text/x-python",
   "name": "python",
   "nbconvert_exporter": "python",
   "pygments_lexer": "ipython3",
   "version": "3.6.3"
  }
 },
 "nbformat": 4,
 "nbformat_minor": 2
}
