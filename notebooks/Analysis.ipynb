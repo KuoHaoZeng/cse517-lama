{
 "cells": [
  {
   "cell_type": "code",
   "execution_count": 18,
   "metadata": {
    "collapsed": true
   },
   "outputs": [],
   "source": [
    "import os\n",
    "import pickle\n",
    "import numpy as np"
   ]
  },
  {
   "cell_type": "code",
   "execution_count": 2,
   "metadata": {
    "collapsed": true
   },
   "outputs": [],
   "source": [
    "basedir = '/home/gamaga/work/cse517-lama/output/results'"
   ]
  },
  {
   "cell_type": "code",
   "execution_count": 24,
   "metadata": {},
   "outputs": [
    {
     "name": "stdout",
     "output_type": "stream",
     "text": [
      "['bert_base', 'bert_large', 'elmo', 'elmo5B', 'transformerxl']\n"
     ]
    }
   ],
   "source": [
    "model_names = sorted(os.listdir(basedir))\n",
    "print(model_names)"
   ]
  },
  {
   "cell_type": "code",
   "execution_count": 25,
   "metadata": {
    "collapsed": true
   },
   "outputs": [],
   "source": [
    "google_re_templates = ['date_of_birth', 'place_of_birth', 'place_of_death']"
   ]
  },
  {
   "cell_type": "code",
   "execution_count": 27,
   "metadata": {},
   "outputs": [
    {
     "name": "stdout",
     "output_type": "stream",
     "text": [
      "bert_base\n",
      "  Template: date_of_birth. Num queries: 1825. Avg P@1: 0.015342\n",
      "  Template: place_of_birth. Num queries: 2937. Avg P@1: 0.149472\n",
      "  Template: place_of_death. Num queries: 765. Avg P@1: 0.130719\n",
      "  ==============================\n",
      "  Total P@1: 0.098511\n",
      "bert_large\n",
      "  Template: date_of_birth. Num queries: 1825. Avg P@1: 0.013699\n",
      "  Template: place_of_birth. Num queries: 2937. Avg P@1: 0.160708\n",
      "  Template: place_of_death. Num queries: 765. Avg P@1: 0.139869\n",
      "  ==============================\n",
      "  Total P@1: 0.104759\n",
      "elmo\n",
      "  Template: date_of_birth. Num queries: 1825. Avg P@1: 0.000000\n",
      "  Template: place_of_birth. Num queries: 2937. Avg P@1: 0.054818\n",
      "  Template: place_of_death. Num queries: 765. Avg P@1: 0.000000\n",
      "  ==============================\n",
      "  Total P@1: 0.018273\n",
      "elmo5B\n",
      "  Template: date_of_birth. Num queries: 1825. Avg P@1: 0.000000\n",
      "  Template: place_of_birth. Num queries: 2937. Avg P@1: 0.075247\n",
      "  Template: place_of_death. Num queries: 765. Avg P@1: 0.000000\n",
      "  ==============================\n",
      "  Total P@1: 0.025082\n",
      "transformerxl\n",
      "  Template: date_of_birth. Num queries: 1825. Avg P@1: 0.008219\n",
      "  Template: place_of_birth. Num queries: 2937. Avg P@1: 0.027239\n",
      "  Template: place_of_death. Num queries: 765. Avg P@1: 0.009150\n",
      "  ==============================\n",
      "  Total P@1: 0.014869\n"
     ]
    }
   ],
   "source": [
    "# Google RE:\n",
    "for model_name in model_names:\n",
    "    print(model_name)\n",
    "    precisions = []\n",
    "    for template in google_re_templates:\n",
    "        filename = os.path.join(basedir, model_name, template, 'result.pkl')\n",
    "        results = pickle.load(open(filename, 'rb'))\n",
    "        num_queries = len(results['list_of_results'])\n",
    "        sum_precision = sum([result['sample_Precision1'] for result in results['list_of_results']])\n",
    "        avg_precision = sum_precision/num_queries\n",
    "        print('  Template: %s. Num queries: %d. Avg P@1: %f' % (template, num_queries, avg_precision))\n",
    "        precisions.append(avg_precision)\n",
    "\n",
    "    print('  ' + '='*30)\n",
    "    print('  Total P@1: %f' % np.mean(precisions))"
   ]
  },
  {
   "cell_type": "code",
   "execution_count": 28,
   "metadata": {},
   "outputs": [],
   "source": [
    "# ConceptNet and Squad\n",
    "template='test'\n",
    "filename = os.path.join(basedir, model_name, template, 'result.pkl')\n",
    "results = pickle.load(open(filename, 'rb'))"
   ]
  },
  {
   "cell_type": "code",
   "execution_count": 32,
   "metadata": {},
   "outputs": [
    {
     "data": {
      "text/plain": [
       "dict_keys(['sample', 'uuid', 'token_ids', 'masked_indices', 'label_index', 'masked_topk', 'sample_MRR', 'sample_Precision', 'sample_perplexity', 'sample_Precision1'])"
      ]
     },
     "execution_count": 32,
     "metadata": {},
     "output_type": "execute_result"
    }
   ],
   "source": [
    "results['list_of_results'][0].keys()"
   ]
  },
  {
   "cell_type": "code",
   "execution_count": null,
   "metadata": {
    "collapsed": true
   },
   "outputs": [],
   "source": []
  }
 ],
 "metadata": {
  "kernelspec": {
   "display_name": "Python 3",
   "language": "python",
   "name": "python3"
  },
  "language_info": {
   "codemirror_mode": {
    "name": "ipython",
    "version": 3
   },
   "file_extension": ".py",
   "mimetype": "text/x-python",
   "name": "python",
   "nbconvert_exporter": "python",
   "pygments_lexer": "ipython3",
   "version": "3.6.3"
  }
 },
 "nbformat": 4,
 "nbformat_minor": 2
}
